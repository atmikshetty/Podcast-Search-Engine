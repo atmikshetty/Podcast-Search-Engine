{
  "nbformat": 4,
  "nbformat_minor": 0,
  "metadata": {
    "colab": {
      "provenance": []
    },
    "kernelspec": {
      "name": "python3",
      "display_name": "Python 3"
    },
    "language_info": {
      "name": "python"
    }
  },
  "cells": [
    {
      "cell_type": "markdown",
      "source": [
        "# Podcast Searcher for my favorite podcasts\n",
        "\n",
        "## Podcasts Available:\n",
        "* Joe Rogan\n",
        "* Chris Williamson\n",
        "* The Diary Of A CEO\n"
      ],
      "metadata": {
        "id": "XUGq97XQ23cy"
      }
    },
    {
      "cell_type": "markdown",
      "source": [
        "## The python code provided here is for Data Collection"
      ],
      "metadata": {
        "id": "fmOAX_OxO_1I"
      }
    },
    {
      "cell_type": "code",
      "source": [
        "# Accessing the Youtube Data API\n",
        "!pip install google-api-python-client"
      ],
      "metadata": {
        "id": "KoV5WEVy28yC"
      },
      "execution_count": null,
      "outputs": []
    },
    {
      "cell_type": "code",
      "source": [
        "# Importing the necessary libraries\n",
        "from googleapiclient.discovery import build\n",
        "import pandas as pd"
      ],
      "metadata": {
        "id": "6ethFpd47ioU"
      },
      "execution_count": 3,
      "outputs": []
    },
    {
      "cell_type": "code",
      "source": [
        "# Channel ids for Joe Rogan Podcast, Chris Williamson, A diary of CEO\n",
        "channel_ids = ['UCzQUP1qoWDoEbmsQxvdjxgQ', 'UCIaH-gZIVC432YRjNVvnyCA', 'UCGq-a57w-aPwyi3pW7XLiHw']"
      ],
      "metadata": {
        "id": "XeOqCDb68kpG"
      },
      "execution_count": 4,
      "outputs": []
    },
    {
      "cell_type": "code",
      "source": [
        "# Neccessary credentials\n",
        "api_service_name = \"youtube\"\n",
        "api_version = \"v3\"\n",
        "api_key=\"ENTER YOUR API KEY -> GET IT FROM GOOGLE DEVELOPERS CONSOLE\"\n",
        "\n",
        "# Get credentials and create an API client\n",
        "youtube = build(\n",
        "    api_service_name, api_version, developerKey=api_key)\n",
        "\n",
        "request = youtube.channels().list(\n",
        "    part=\"snippet,contentDetails,statistics\",\n",
        "    id=','.join(channel_ids)    #Get the details of all three channels\n",
        ")\n",
        "response = request.execute()\n",
        "\n",
        "response"
      ],
      "metadata": {
        "id": "BpKwL1Yw7D68",
        "collapsed": true
      },
      "execution_count": null,
      "outputs": []
    },
    {
      "cell_type": "code",
      "source": [
        "def get_channel_stats(youtube, channel_ids):\n",
        "  all_data = []\n",
        "\n",
        "  req = youtube.channels().list(\n",
        "      part=\"snippet, contentDetails,statistics\",\n",
        "      id=','.join(channel_ids)\n",
        "  )\n",
        "\n",
        "  res = req.execute()\n",
        "\n",
        "  for item in response['items']:\n",
        "    data = {'Channel': item['snippet']['title'],\n",
        "            'Subscribers': item['statistics']['subscriberCount'],\n",
        "            'Views' : item['statistics']['viewCount'],\n",
        "            'Videos': item['statistics']['videoCount'],\n",
        "            'PlayListID': item['contentDetails']['relatedPlaylists']['uploads']\n",
        "            }\n",
        "\n",
        "    all_data.append(data)\n",
        "\n",
        "  return (pd.DataFrame(all_data))\n"
      ],
      "metadata": {
        "id": "fUi9DP-N-ITb"
      },
      "execution_count": 6,
      "outputs": []
    },
    {
      "cell_type": "code",
      "source": [
        "get_channel_stats(youtube, channel_ids)"
      ],
      "metadata": {
        "id": "ns3f3lg1_tYi"
      },
      "execution_count": null,
      "outputs": []
    },
    {
      "cell_type": "code",
      "source": [
        "# Consisting of all the videos of the three respective channels\n",
        "playlist_ids = ['UUzQUP1qoWDoEbmsQxvdjxgQ', 'UUIaH-gZIVC432YRjNVvnyCA', 'UUGq-a57w-aPwyi3pW7XLiHw']"
      ],
      "metadata": {
        "id": "IKgOD0LxKhXG"
      },
      "execution_count": 9,
      "outputs": []
    },
    {
      "cell_type": "code",
      "source": [
        "# Pick an id one by one\n",
        "playlist_id = \"UUGq-a57w-aPwyi3pW7XLiHw\""
      ],
      "metadata": {
        "id": "taZOlBF-K4qY"
      },
      "execution_count": 29,
      "outputs": []
    },
    {
      "cell_type": "code",
      "source": [
        "def get_video_ids(youtube, playlist_ids):\n",
        "\n",
        "  video_ids = []\n",
        "\n",
        "  req = youtube.playlistItems().list(\n",
        "      part=\"snippet, contentDetails\",\n",
        "      playlistId = playlist_id,\n",
        "      maxResults = 50\n",
        "  )\n",
        "  res = req.execute()\n",
        "\n",
        "  for item in res['items']:\n",
        "    video_ids.append(item['contentDetails']['videoId'])\n",
        "\n",
        "  next_page_token = res.get('nextPageToken')\n",
        "  while next_page_token is not None:\n",
        "    req = youtube.playlistItems().list(\n",
        "      part=\"snippet, contentDetails\",\n",
        "      playlistId = playlist_id,\n",
        "      maxResults = 50,\n",
        "      pageToken = next_page_token   # To get all the ids\n",
        "  )\n",
        "    res = req.execute()\n",
        "\n",
        "    for item in res['items']:\n",
        "      video_ids.append(item['contentDetails']['videoId'])\n",
        "\n",
        "    next_page_token = res.get('nextPageToken')\n",
        "\n",
        "  return video_ids\n",
        ""
      ],
      "metadata": {
        "id": "qhtFXzIh7ctS"
      },
      "execution_count": 30,
      "outputs": []
    },
    {
      "cell_type": "code",
      "source": [
        "video_ids = get_video_ids(youtube, playlist_ids)\n",
        "len(video_ids)"
      ],
      "metadata": {
        "id": "3_jiD-j790Pp",
        "colab": {
          "base_uri": "https://localhost:8080/"
        },
        "outputId": "dd2f5754-f026-410c-b1ae-3ccb2ae7d338"
      },
      "execution_count": 31,
      "outputs": [
        {
          "output_type": "execute_result",
          "data": {
            "text/plain": [
              "299"
            ]
          },
          "metadata": {},
          "execution_count": 31
        }
      ]
    },
    {
      "cell_type": "code",
      "source": [
        "video_ids"
      ],
      "metadata": {
        "collapsed": true,
        "id": "-gqePVfuKOoJ"
      },
      "execution_count": null,
      "outputs": []
    },
    {
      "cell_type": "code",
      "source": [
        "ceo_df = pd.DataFrame(video_ids, columns=['id'])\n",
        "ceo_df.head()"
      ],
      "metadata": {
        "id": "2ZZLdzN6MLOy"
      },
      "execution_count": null,
      "outputs": []
    },
    {
      "cell_type": "code",
      "source": [
        "# Convert the ids to csv\n",
        "ceo_df.to_csv('diary_of_a_ceo.csv', index=False)"
      ],
      "metadata": {
        "id": "ZYFrw5M5MlaL"
      },
      "execution_count": 33,
      "outputs": []
    }
  ]
}